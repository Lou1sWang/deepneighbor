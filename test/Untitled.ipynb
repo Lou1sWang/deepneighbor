{
 "cells": [
  {
   "cell_type": "code",
   "execution_count": 2,
   "metadata": {},
   "outputs": [
    {
     "data": {
      "text/plain": [
       "'/Users/louis/Documents/dev/deepneighbor/test'"
      ]
     },
     "execution_count": 2,
     "metadata": {},
     "output_type": "execute_result"
    }
   ],
   "source": [
    "pwd"
   ]
  },
  {
   "cell_type": "code",
   "execution_count": 4,
   "metadata": {},
   "outputs": [
    {
     "name": "stdout",
     "output_type": "stream",
     "text": [
      "Collecting deepneighbor\n",
      "  Downloading https://files.pythonhosted.org/packages/9b/4f/ad686a084ea563504f67142f2305e36d9089796e7f5216936866ec3be647/deepneighbor-0.1.9-py3-none-any.whl\n",
      "Requirement already satisfied: tqdm in /Users/louis/opt/anaconda3/lib/python3.7/site-packages (from deepneighbor) (4.36.1)\n",
      "Requirement already satisfied: numpy in /Users/louis/opt/anaconda3/lib/python3.7/site-packages (from deepneighbor) (1.18.2)\n",
      "Requirement already satisfied: scikit-learn in /Users/louis/opt/anaconda3/lib/python3.7/site-packages (from deepneighbor) (0.22.2.post1)\n",
      "Collecting gensim==3.7.0 (from deepneighbor)\n",
      "\u001b[?25l  Downloading https://files.pythonhosted.org/packages/23/2e/3cd9a8961da15feabb1248680ada2e80727732bb7654bdfe0a402b6f207b/gensim-3.7.0-cp37-cp37m-macosx_10_6_intel.macosx_10_9_intel.macosx_10_9_x86_64.macosx_10_10_intel.macosx_10_10_x86_64.whl (24.7MB)\n",
      "\u001b[K     |████████████████████████████████| 24.7MB 3.5MB/s eta 0:00:01\n",
      "\u001b[?25hRequirement already satisfied: matplotlib in /Users/louis/opt/anaconda3/lib/python3.7/site-packages (from deepneighbor) (3.1.3)\n",
      "Requirement already satisfied: h5py in /Users/louis/opt/anaconda3/lib/python3.7/site-packages (from deepneighbor) (2.8.0)\n",
      "Requirement already satisfied: annoy in /Users/louis/.local/lib/python3.7/site-packages (from deepneighbor) (1.16.3)\n",
      "Requirement already satisfied: fastdtw==0.3.2 in /Users/louis/opt/anaconda3/lib/python3.7/site-packages (from deepneighbor) (0.3.2)\n",
      "Requirement already satisfied: pandas in /Users/louis/opt/anaconda3/lib/python3.7/site-packages (from deepneighbor) (0.25.3)\n",
      "Requirement already satisfied: requests in /Users/louis/opt/anaconda3/lib/python3.7/site-packages (from deepneighbor) (2.22.0)\n",
      "Requirement already satisfied: joblib==0.13.0 in /Users/louis/opt/anaconda3/lib/python3.7/site-packages (from deepneighbor) (0.13.0)\n",
      "Requirement already satisfied: scipy>=0.17.0 in /Users/louis/opt/anaconda3/lib/python3.7/site-packages (from scikit-learn->deepneighbor) (1.3.1)\n",
      "Requirement already satisfied: smart-open>=1.7.0 in /Users/louis/opt/anaconda3/lib/python3.7/site-packages (from gensim==3.7.0->deepneighbor) (1.9.0)\n",
      "Requirement already satisfied: six>=1.5.0 in /Users/louis/opt/anaconda3/lib/python3.7/site-packages (from gensim==3.7.0->deepneighbor) (1.11.0)\n",
      "Requirement already satisfied: pyparsing!=2.0.4,!=2.1.2,!=2.1.6,>=2.0.1 in /Users/louis/opt/anaconda3/lib/python3.7/site-packages (from matplotlib->deepneighbor) (2.4.2)\n",
      "Requirement already satisfied: python-dateutil>=2.1 in /Users/louis/opt/anaconda3/lib/python3.7/site-packages (from matplotlib->deepneighbor) (2.8.0)\n",
      "Requirement already satisfied: cycler>=0.10 in /Users/louis/opt/anaconda3/lib/python3.7/site-packages (from matplotlib->deepneighbor) (0.10.0)\n",
      "Requirement already satisfied: kiwisolver>=1.0.1 in /Users/louis/opt/anaconda3/lib/python3.7/site-packages (from matplotlib->deepneighbor) (1.1.0)\n",
      "Requirement already satisfied: pytz>=2017.2 in /Users/louis/opt/anaconda3/lib/python3.7/site-packages (from pandas->deepneighbor) (2019.3)\n",
      "Requirement already satisfied: chardet<3.1.0,>=3.0.2 in /Users/louis/opt/anaconda3/lib/python3.7/site-packages (from requests->deepneighbor) (3.0.4)\n",
      "Requirement already satisfied: urllib3!=1.25.0,!=1.25.1,<1.26,>=1.21.1 in /Users/louis/opt/anaconda3/lib/python3.7/site-packages (from requests->deepneighbor) (1.24.2)\n",
      "Requirement already satisfied: certifi>=2017.4.17 in /Users/louis/opt/anaconda3/lib/python3.7/site-packages (from requests->deepneighbor) (2019.9.11)\n",
      "Requirement already satisfied: idna<2.9,>=2.5 in /Users/louis/opt/anaconda3/lib/python3.7/site-packages (from requests->deepneighbor) (2.8)\n",
      "Requirement already satisfied: boto3 in /Users/louis/opt/anaconda3/lib/python3.7/site-packages (from smart-open>=1.7.0->gensim==3.7.0->deepneighbor) (1.10.40)\n",
      "Requirement already satisfied: boto>=2.32 in /Users/louis/opt/anaconda3/lib/python3.7/site-packages (from smart-open>=1.7.0->gensim==3.7.0->deepneighbor) (2.49.0)\n",
      "Requirement already satisfied: setuptools in /Users/louis/.local/lib/python3.7/site-packages (from kiwisolver>=1.0.1->matplotlib->deepneighbor) (49.2.1)\n",
      "Requirement already satisfied: jmespath<1.0.0,>=0.7.1 in /Users/louis/opt/anaconda3/lib/python3.7/site-packages (from boto3->smart-open>=1.7.0->gensim==3.7.0->deepneighbor) (0.9.4)\n",
      "Requirement already satisfied: s3transfer<0.3.0,>=0.2.0 in /Users/louis/opt/anaconda3/lib/python3.7/site-packages (from boto3->smart-open>=1.7.0->gensim==3.7.0->deepneighbor) (0.2.1)\n",
      "Requirement already satisfied: botocore<1.14.0,>=1.13.40 in /Users/louis/opt/anaconda3/lib/python3.7/site-packages (from boto3->smart-open>=1.7.0->gensim==3.7.0->deepneighbor) (1.13.40)\n",
      "Requirement already satisfied: docutils<0.16,>=0.10 in /Users/louis/opt/anaconda3/lib/python3.7/site-packages (from botocore<1.14.0,>=1.13.40->boto3->smart-open>=1.7.0->gensim==3.7.0->deepneighbor) (0.15.2)\n",
      "Installing collected packages: gensim, deepneighbor\n",
      "  Found existing installation: gensim 3.6.0\n",
      "    Uninstalling gensim-3.6.0:\n",
      "      Successfully uninstalled gensim-3.6.0\n",
      "Successfully installed deepneighbor-0.1.9 gensim-3.7.0\n"
     ]
    }
   ],
   "source": [
    "!pip install deepneighbor"
   ]
  },
  {
   "cell_type": "code",
   "execution_count": 5,
   "metadata": {},
   "outputs": [],
   "source": [
    "import deepneighbor\n",
    "from deepneighbor.embed import Embed\n",
    "import pandas as pd"
   ]
  },
  {
   "cell_type": "code",
   "execution_count": 6,
   "metadata": {},
   "outputs": [],
   "source": []
  },
  {
   "cell_type": "code",
   "execution_count": 8,
   "metadata": {},
   "outputs": [],
   "source": [
    "\n",
    "data = pd.read_csv(\"../datasets/processed_data.csv\",nrows=10000)"
   ]
  },
  {
   "cell_type": "code",
   "execution_count": 13,
   "metadata": {},
   "outputs": [
    {
     "data": {
      "text/html": [
       "<div>\n",
       "<style scoped>\n",
       "    .dataframe tbody tr th:only-of-type {\n",
       "        vertical-align: middle;\n",
       "    }\n",
       "\n",
       "    .dataframe tbody tr th {\n",
       "        vertical-align: top;\n",
       "    }\n",
       "\n",
       "    .dataframe thead th {\n",
       "        text-align: right;\n",
       "    }\n",
       "</style>\n",
       "<table border=\"1\" class=\"dataframe\">\n",
       "  <thead>\n",
       "    <tr style=\"text-align: right;\">\n",
       "      <th></th>\n",
       "      <th>item</th>\n",
       "      <th>user</th>\n",
       "    </tr>\n",
       "  </thead>\n",
       "  <tbody>\n",
       "    <tr>\n",
       "      <th>0</th>\n",
       "      <td>7443</td>\n",
       "      <td>Alex</td>\n",
       "    </tr>\n",
       "    <tr>\n",
       "      <th>1</th>\n",
       "      <td>7443</td>\n",
       "      <td>carolyn.agan</td>\n",
       "    </tr>\n",
       "    <tr>\n",
       "      <th>2</th>\n",
       "      <td>7443</td>\n",
       "      <td>Robyn</td>\n",
       "    </tr>\n",
       "    <tr>\n",
       "      <th>3</th>\n",
       "      <td>7443</td>\n",
       "      <td>De</td>\n",
       "    </tr>\n",
       "    <tr>\n",
       "      <th>4</th>\n",
       "      <td>7443</td>\n",
       "      <td>tasha</td>\n",
       "    </tr>\n",
       "  </tbody>\n",
       "</table>\n",
       "</div>"
      ],
      "text/plain": [
       "   item          user\n",
       "0  7443          Alex\n",
       "1  7443  carolyn.agan\n",
       "2  7443         Robyn\n",
       "3  7443            De\n",
       "4  7443         tasha"
      ]
     },
     "execution_count": 13,
     "metadata": {},
     "output_type": "execute_result"
    }
   ],
   "source": [
    "data.head()"
   ]
  },
  {
   "cell_type": "code",
   "execution_count": 9,
   "metadata": {},
   "outputs": [],
   "source": [
    "e = Embed(data)"
   ]
  },
  {
   "cell_type": "code",
   "execution_count": 17,
   "metadata": {},
   "outputs": [
    {
     "name": "stdout",
     "output_type": "stream",
     "text": [
      "There are 6934 users\n",
      "There are 97 items\n",
      "Learning embedding vectors...\n",
      "Learning embedding vectors done!\n"
     ]
    },
    {
     "data": {
      "text/plain": [
       "<gensim.models.word2vec.Word2Vec at 0x7fc41372d4d0>"
      ]
     },
     "execution_count": 17,
     "metadata": {},
     "output_type": "execute_result"
    }
   ],
   "source": [
    "e.train(embed_size=64)"
   ]
  },
  {
   "cell_type": "code",
   "execution_count": 18,
   "metadata": {},
   "outputs": [
    {
     "name": "stdout",
     "output_type": "stream",
     "text": [
      "['De' 'francisca.rios' 'jenny_letta' 'augustawind88' 'Christy']\n"
     ]
    }
   ],
   "source": [
    "print(e.search('De',k=5))"
   ]
  },
  {
   "cell_type": "code",
   "execution_count": 32,
   "metadata": {},
   "outputs": [
    {
     "name": "stdout",
     "output_type": "stream",
     "text": [
      "There are 6934 users\n",
      "There are 97 items\n",
      "Learning embedding vectors...\n",
      "Learning embedding vectors done!\n"
     ]
    },
    {
     "data": {
      "text/plain": [
       "<gensim.models.word2vec.Word2Vec at 0x7fc3f5376b50>"
      ]
     },
     "execution_count": 32,
     "metadata": {},
     "output_type": "execute_result"
    }
   ],
   "source": [
    "e2 = Embed(data)\n",
    "e2.train(embed_size=256)"
   ]
  },
  {
   "cell_type": "code",
   "execution_count": 31,
   "metadata": {},
   "outputs": [
    {
     "data": {
      "text/plain": [
       "array(['Alex', 'Annette', 'rbccburton', 'Cristin', 'Claudia'],\n",
       "      dtype='<U24')"
      ]
     },
     "execution_count": 31,
     "metadata": {},
     "output_type": "execute_result"
    }
   ],
   "source": [
    "e2.search('Alex',k=5)"
   ]
  },
  {
   "cell_type": "code",
   "execution_count": 27,
   "metadata": {},
   "outputs": [
    {
     "data": {
      "text/plain": [
       "LabelEncoder()"
      ]
     },
     "execution_count": 27,
     "metadata": {},
     "output_type": "execute_result"
    }
   ],
   "source": [
    "from sklearn import preprocessing\n",
    "le = preprocessing.LabelEncoder()\n",
    "le.fit([1,2,3,3,5])"
   ]
  },
  {
   "cell_type": "code",
   "execution_count": 28,
   "metadata": {},
   "outputs": [
    {
     "data": {
      "text/plain": [
       "array([1])"
      ]
     },
     "execution_count": 28,
     "metadata": {},
     "output_type": "execute_result"
    }
   ],
   "source": [
    "le.transform([2])"
   ]
  },
  {
   "cell_type": "code",
   "execution_count": 30,
   "metadata": {},
   "outputs": [
    {
     "data": {
      "text/plain": [
       "[2, 2, 2]"
      ]
     },
     "execution_count": 30,
     "metadata": {},
     "output_type": "execute_result"
    }
   ],
   "source": [
    "list(le.inverse_transform([1,1,1]))"
   ]
  },
  {
   "cell_type": "code",
   "execution_count": null,
   "metadata": {},
   "outputs": [],
   "source": []
  }
 ],
 "metadata": {
  "kernelspec": {
   "display_name": "Python 3",
   "language": "python",
   "name": "python3"
  },
  "language_info": {
   "codemirror_mode": {
    "name": "ipython",
    "version": 3
   },
   "file_extension": ".py",
   "mimetype": "text/x-python",
   "name": "python",
   "nbconvert_exporter": "python",
   "pygments_lexer": "ipython3",
   "version": "3.7.4"
  }
 },
 "nbformat": 4,
 "nbformat_minor": 2
}
